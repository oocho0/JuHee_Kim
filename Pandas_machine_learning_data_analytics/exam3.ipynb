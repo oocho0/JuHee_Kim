{
 "cells": [
  {
   "cell_type": "markdown",
   "metadata": {},
   "source": [
    "# 동적 웹 크롤링과 스크래핑"
   ]
  },
  {
   "cell_type": "code",
   "execution_count": null,
   "metadata": {},
   "outputs": [],
   "source": [
    "# selenium API 를 재설치 합시다요~~~~~\n",
    "#!pip install selenium"
   ]
  },
  {
   "cell_type": "code",
   "execution_count": 33,
   "metadata": {
    "tags": []
   },
   "outputs": [
    {
     "name": "stdout",
     "output_type": "stream",
     "text": [
      "WebDriver 객체 :  <class 'selenium.webdriver.chrome.webdriver.WebDriver'>\n"
     ]
    }
   ],
   "source": [
    "#셀레니움 창 띄우기\n",
    "from selenium import webdriver\n",
    "from selenium.webdriver.common.keys import Keys \n",
    "from selenium.webdriver.common.by import By\n",
    "from selenium.webdriver.chrome.service import Service\n",
    "driver = webdriver.Chrome(service=Service('Users/juheekim/Desktop/coding/mycodesource/Multicampus/selenium/chromedriver')) # selnium 4.x\n",
    "#driver = webdriver.Chrome('C:/Temp/chromedriver') # selnium 3.x\n",
    "print(\"WebDriver 객체 : \", type(driver))"
   ]
  },
  {
   "cell_type": "code",
   "execution_count": 34,
   "metadata": {
    "tags": []
   },
   "outputs": [],
   "source": [
    "#브라우저 호출\n",
    "driver.get('http://www.google.com/ncr') "
   ]
  },
  {
   "cell_type": "code",
   "execution_count": 20,
   "metadata": {
    "collapsed": true,
    "jupyter": {
     "outputs_hidden": true
    },
    "tags": []
   },
   "outputs": [
    {
     "name": "stdout",
     "output_type": "stream",
     "text": [
      "찾아온 태그 객체 :  <class 'selenium.webdriver.remote.webelement.WebElement'>\n"
     ]
    }
   ],
   "source": [
    "#'검색'객체 찾기\n",
    "target=driver.find_element(By.CSS_SELECTOR, \"[name = 'q']\")\n",
    "print(\"찾아온 태그 객체 : \", type(target))\n",
    "target.send_keys('파이썬')"
   ]
  },
  {
   "cell_type": "code",
   "execution_count": 21,
   "metadata": {
    "tags": []
   },
   "outputs": [],
   "source": [
    "#'검색'하기\n",
    "target.send_keys(Keys.ENTER)"
   ]
  },
  {
   "cell_type": "code",
   "execution_count": 12,
   "metadata": {
    "tags": []
   },
   "outputs": [],
   "source": [
    "#창 닫기\n",
    "driver.quit()"
   ]
  },
  {
   "cell_type": "code",
   "execution_count": 22,
   "metadata": {
    "tags": []
   },
   "outputs": [
    {
     "name": "stdout",
     "output_type": "stream",
     "text": [
      "[]\n"
     ]
    }
   ],
   "source": [
    "import urllib.request\n",
    "from bs4 import BeautifulSoup\n",
    "#서버 접속\n",
    "server = urllib.request.urlopen(\"https://www.istarbucks.co.kr/store/store_map.do\")\n",
    "\n",
    "response =server.read()\n",
    "bs = BeautifulSoup(response, \"html.parser\")\n",
    "li = bs.find_all('li', class_=\"quickResultLstCon\")\n",
    "print(li)"
   ]
  },
  {
   "cell_type": "code",
   "execution_count": null,
   "metadata": {
    "tags": []
   },
   "outputs": [],
   "source": [
    "driver = webdriver.Chrome(service=Service('Users/juheekim/Desktop/coding/mycodesource/Multicampus/selenium/chromedriver'))\n",
    "driver.implicitly_wait(3)\n",
    "driver.get(\"https://www.istarbucks.co.kr/store/store_map.do\")\n",
    "target=driver.find_element(By.CLASS_NAME, \"quickResultLstCon\")\n",
    "\n",
    "print(type(target))\n",
    "print(type(target.text))\n",
    "print(target.text)\n",
    "#driver.quit()"
   ]
  },
  {
   "cell_type": "code",
   "execution_count": 27,
   "metadata": {
    "collapsed": true,
    "jupyter": {
     "outputs_hidden": true
    },
    "tags": []
   },
   "outputs": [
    {
     "name": "stdout",
     "output_type": "stream",
     "text": [
      "<selenium.webdriver.chrome.webdriver.WebDriver (session=\"7a703d71e601fbff47a256bcbfee395d\")>\n",
      "-----------------------------\n",
      "<class 'selenium.webdriver.remote.webelement.WebElement'>\n",
      "h1 : CSS 선택자 학습\n",
      "-----------------------------\n",
      "<class 'list'>\n",
      "h2 : 교육과정 소개\n",
      "h2 : 웹 클라이언트 기술\n",
      "h2 : 학습 순서(수집)\n"
     ]
    }
   ],
   "source": [
    "from selenium import webdriver\n",
    "\n",
    "#driver = webdriver.Chrome(service=Service('Users/juheekim/Desktop/coding/mycodesource/Multicampus/selenium/chromedriver'))\n",
    "#driver.implicitly_wait(3)\n",
    "#print('[ webdriver 객체 정보 ]')\n",
    "#print(type(driver)) \n",
    "print(driver) \n",
    "driver.get('http://unico2013.dothome.co.kr/crawling/exercise_css.html')\n",
    "print('-----------------------------')\n",
    "byTagName = driver.find_element(By.TAG_NAME,'h1')\n",
    "print(type(byTagName))\n",
    "print(byTagName.tag_name, \":\", byTagName.text)\n",
    "print('-----------------------------')\n",
    "byTagNames = driver.find_elements(By.TAG_NAME, 'h2')\n",
    "print(type(byTagNames))\n",
    "for tagName in byTagNames :\n",
    "   print(tagName.tag_name, \":\", tagName.text)\n",
    "#driver.quit()"
   ]
  },
  {
   "cell_type": "code",
   "execution_count": 28,
   "metadata": {
    "collapsed": true,
    "jupyter": {
     "outputs_hidden": true
    },
    "tags": []
   },
   "outputs": [
    {
     "name": "stdout",
     "output_type": "stream",
     "text": [
      "<class 'selenium.webdriver.remote.webelement.WebElement'>\n",
      "h2 : 웹 클라이언트 기술\n",
      "-----------------------------\n",
      "<class 'list'>\n",
      "h2 : 웹 클라이언트 기술\n",
      "h2 : 학습 순서(수집)\n"
     ]
    }
   ],
   "source": [
    "from selenium import webdriver\n",
    "\n",
    "#driver = webdriver.Chrome(service=Service('Users/juheekim/Desktop/coding/mycodesource/Multicampus/selenium/chromedriver'))\n",
    "#driver.implicitly_wait(3) \n",
    "\n",
    "#driver.get('http://unico2013.dothome.co.kr/crawling/exercise_css.html')\n",
    "\n",
    "byClassName = driver.find_element(By.CLASS_NAME,'subtitle')\n",
    "print(type(byClassName))\n",
    "print(byClassName.tag_name, \":\", byClassName.text)\n",
    "print('-----------------------------')\n",
    "byClassNames = driver.find_elements(By.CLASS_NAME, 'subtitle')\n",
    "print(type(byClassNames))\n",
    "for className in byClassNames :\n",
    "   print(className.tag_name, \":\", className.text)\n",
    "#driver.quit()\n"
   ]
  },
  {
   "cell_type": "code",
   "execution_count": 29,
   "metadata": {
    "collapsed": true,
    "jupyter": {
     "outputs_hidden": true
    },
    "tags": []
   },
   "outputs": [
    {
     "name": "stdout",
     "output_type": "stream",
     "text": [
      "<class 'selenium.webdriver.remote.webelement.WebElement'>\n",
      "li : HTML5\n",
      "-----------------------------\n",
      "<class 'selenium.webdriver.remote.webelement.WebElement'>\n",
      "a : 파이썬 학습 사이트\n",
      "-----------------------------\n",
      "<class 'list'>\n",
      "a : HTML, CSS, JavaScript 학습 사이트\n",
      "a : 파이썬 학습 사이트\n"
     ]
    }
   ],
   "source": [
    "from selenium import webdriver\n",
    "\n",
    "#driver = webdriver.Chrome('Users/juheekim/Desktop/coding/mycodesource/Multicampus/selenium/chromedriver')\n",
    "#driver.implicitly_wait(3) \n",
    "\n",
    "#driver.get('http://unico2013.dothome.co.kr/crawling/exercise_css.html')\n",
    "\n",
    "byId = driver.find_element(By.ID,'btype')\n",
    "print(type(byId))\n",
    "print(byId.tag_name, \":\", byId.text)\n",
    "print('-----------------------------')\n",
    "byLinkText = driver.find_element(By.LINK_TEXT,'파이썬 학습 사이트')\n",
    "print(type(byLinkText))\n",
    "print(byLinkText.tag_name, \":\", byLinkText.text)\n",
    "print('-----------------------------')\n",
    "byPLinkText = driver.find_elements(By.PARTIAL_LINK_TEXT,'사이트')\n",
    "print(type(byPLinkText))\n",
    "for linkText in byPLinkText :\n",
    "   print(linkText.tag_name, \":\", linkText.text)\n",
    "#driver.quit()"
   ]
  },
  {
   "cell_type": "code",
   "execution_count": 30,
   "metadata": {
    "collapsed": true,
    "jupyter": {
     "outputs_hidden": true
    },
    "tags": []
   },
   "outputs": [
    {
     "name": "stdout",
     "output_type": "stream",
     "text": [
      "<class 'selenium.webdriver.remote.webelement.WebElement'>\n",
      "h2 : 교육과정 소개\n",
      "-----------------------------\n",
      "<class 'selenium.webdriver.remote.webelement.WebElement'>\n",
      "h2 : 학습 순서(수집)\n",
      "-----------------------------\n",
      "<class 'selenium.webdriver.remote.webelement.WebElement'>\n",
      "li : JavaScript\n",
      "-----------------------------\n",
      "<class 'list'>\n",
      "li : CSS3\n",
      "li : Ajax\n"
     ]
    }
   ],
   "source": [
    "from selenium import webdriver\n",
    "\n",
    "#driver = webdriver.Chrome('Users/juheekim/Desktop/coding/mycodesource/Multicampus/selenium/chromedriver')driver = webdriver.Chrome(service=Service('Users/juheekim/Desktop/coding/mycodesource/Multicampus/selenium/chromedriver'))\n",
    "#driver.implicitly_wait(3) \n",
    "\n",
    "#driver.get('http://unico2013.dothome.co.kr/crawling/exercise_css.html')\n",
    "\n",
    "byCss1 = driver.find_element(By.CSS_SELECTOR, 'section>h2')\n",
    "print(type(byCss1))\n",
    "print(byCss1.tag_name, \":\", byCss1.text)\n",
    "print('-----------------------------')\n",
    "byCss2 = driver.find_element(By.CSS_SELECTOR,'aside>h2')\n",
    "print(type(byCss2))\n",
    "print(byCss2.tag_name, \":\", byCss2.text)\n",
    "print('-----------------------------')\n",
    "byCss3 = driver.find_element(By.CSS_SELECTOR,'body > section > article > ul > li:nth-child(3)')\n",
    "print(type(byCss3))\n",
    "print(byCss3.tag_name, \":\", byCss3.text)\n",
    "print('-----------------------------')\n",
    "byCss4 = driver.find_elements(By.CSS_SELECTOR,'ul>li.atype')\n",
    "print(type(byCss4))\n",
    "for byCss in byCss4 :\n",
    "   print(byCss.tag_name, \":\", byCss.text)\n",
    "#driver.quit()"
   ]
  },
  {
   "cell_type": "code",
   "execution_count": 31,
   "metadata": {
    "collapsed": true,
    "jupyter": {
     "outputs_hidden": true
    },
    "tags": []
   },
   "outputs": [
    {
     "name": "stdout",
     "output_type": "stream",
     "text": [
      "<class 'selenium.webdriver.remote.webelement.WebElement'>\n",
      "h2 : 교육과정 소개\n",
      "-----------------------------\n",
      "<class 'selenium.webdriver.remote.webelement.WebElement'>\n",
      "li : JavaScript\n",
      "-----------------------------\n",
      "<class 'list'>\n",
      "li : CSS3\n",
      "li : Ajax\n"
     ]
    }
   ],
   "source": [
    "from selenium import webdriver\n",
    "\n",
    "#driver = webdriver.Chrome(service=Service('Users/juheekim/Desktop/coding/mycodesource/Multicampus/selenium/chromedriver'))\n",
    "#driver.implicitly_wait(3) \n",
    "\n",
    "#driver.get('http://unico2013.dothome.co.kr/crawling/exercise_css.html')\n",
    "\n",
    "byXpath1 = driver.find_element(By.XPATH,'//*[@id=\"f_subtitle\"]')\n",
    "print(type(byXpath1))\n",
    "print(byXpath1.tag_name, \":\", byXpath1.text)\n",
    "print('-----------------------------')\n",
    "byXpath2 = driver.find_element(By.XPATH,'/html/body/section/article/ul/li[3]')\n",
    "print(type(byXpath2))\n",
    "print(byXpath2.tag_name, \":\", byXpath2.text)\n",
    "print('-----------------------------')\n",
    "byXpath3 = driver.find_elements(By.XPATH,'//ul/li[@class=\"atype\"]')\n",
    "print(type(byXpath3))\n",
    "for byXpath in byXpath3 :\n",
    "   print(byXpath.tag_name, \":\", byXpath.text)\n",
    "#driver.quit()"
   ]
  },
  {
   "cell_type": "code",
   "execution_count": 32,
   "metadata": {
    "collapsed": true,
    "jupyter": {
     "outputs_hidden": true
    },
    "tags": []
   },
   "outputs": [
    {
     "name": "stdout",
     "output_type": "stream",
     "text": [
      "<class 'selenium.webdriver.remote.webelement.WebElement'>\n",
      "img : https://www.python.org/static/img/python-logo.png\n",
      "-----------------------------\n",
      "<class 'list'>\n",
      "a : https://www.w3schools.com/\n",
      "a : https://www.python.org/\n"
     ]
    }
   ],
   "source": [
    "from selenium import webdriver\n",
    "\n",
    "#driver = webdriver.Chrome(service=Service('Users/juheekim/Desktop/coding/mycodesource/Multicampus/selenium/chromedriver'))\n",
    "#driver.implicitly_wait(3) \n",
    "\n",
    "#driver.get('http://unico2013.dothome.co.kr/crawling/exercise_css.html')\n",
    "\n",
    "byXpath1 = driver.find_element(By.XPATH,'//div/img')\n",
    "print(type(byXpath1))\n",
    "print(byXpath1.tag_name, \":\", byXpath1.get_attribute('src'))\n",
    "print('-----------------------------')\n",
    "byXpath2 = driver.find_elements(By.XPATH,'/html/body/header/nav/a')\n",
    "print(type(byXpath2))\n",
    "for byXpath in byXpath2 :\n",
    "   print(byXpath.tag_name, \":\", byXpath.get_attribute('href'))\n",
    "#driver.quit()"
   ]
  },
  {
   "cell_type": "code",
   "execution_count": 36,
   "metadata": {},
   "outputs": [],
   "source": [
    "from selenium import webdriver\n",
    "from selenium.webdriver.common.keys import Keys\n",
    "from selenium.webdriver.chrome.service import Service\n",
    "from selenium.webdriver.common.by import By\n",
    "import time\n",
    "\n",
    "url = \"https://www.megabox.co.kr/movie-detail/comment?rpstMovieNo=21033000\"\n",
    "driver =  webdriver.Chrome(service=Service('Users/juheekim/Desktop/coding/mycodesource/Multicampus/selenium/chromedriver'))\n",
    "driver.get(url)\n",
    "\n",
    "points = list()\n",
    "recommends = list()\n",
    "txts = list()\n",
    "\n",
    "# 1페이지 정보\n",
    "driver.implicitly_wait(3)\n",
    "time.sleep(2)\n",
    "#또 다른 list가 가진 elements를 추가하고 싶으면 extend사용\n",
    "points.extend([p.text for p in driver.find_elements(By.CLASS_NAME, 'story-point')]) \n",
    "recommends.extend([r.text for r in driver.find_elements(By.CLASS_NAME,'story-recommend')])\n",
    "txts.extend([t.text for t in driver.find_elements(By.CLASS_NAME,'story-txt')])\n",
    "\n",
    "# 2~30 페이지 정보\n",
    "for page in range(2, 31):\n",
    "    if page % 10 == 1:\n",
    "        next_btn = driver.find_element(By.CSS_SELECTOR, \"#contentData > div > div.movie-idv-story > nav > a.control.next\")\n",
    "        next_btn.click()\n",
    "    else:\n",
    "        page_btn = driver.find_element(By.LINK_TEXT, str(page))\n",
    "        page_btn.click()\n",
    "    driver.implicitly_wait(3)\n",
    "    time.sleep(2)\n",
    "    \n",
    "    points.extend([p.text for p in driver.find_elements(By.CLASS_NAME,'story-point')])\n",
    "    recommends.extend([r.text for r in driver.find_elements(By.CLASS_NAME,'story-recommend')])\n",
    "    txts.extend([t.text for t in driver.find_elements(By.CLASS_NAME,'story-txt')])\n",
    "    \n",
    "with open('output/movie.csv', \"wt\", encoding=\"utf-8\") as f:\n",
    "    f.write(\"score,genre,review\\n\")\n",
    "    for p, r, t in zip(points, recommends, txts):\n",
    "        t = '\"' + t.replace('\"', '\"\"') + '\"'\n",
    "        f.write(\",\".join([p, r, t])+\"\\n\")   \n"
   ]
  },
  {
   "cell_type": "code",
   "execution_count": 51,
   "metadata": {},
   "outputs": [],
   "source": [
    "#소스1\n",
    "from selenium import webdriver\n",
    "from selenium.webdriver.common.keys import Keys\n",
    "import time\n",
    "\n",
    "#driver = webdriver.Chrome(service=Service('Users/juheekim/Desktop/coding/mycodesource/Multicampus/selenium/chromedriver'))\n",
    "#driver.implicitly_wait(3) \n",
    "driver.get('https://map.naver.com/') \n",
    "time.sleep(2)\n",
    "target = driver.find_element(By.CSS_SELECTOR, \".input_search\")\n",
    "target.send_keys('서울시어린이도서관')\n",
    "target.send_keys(Keys.ENTER)"
   ]
  },
  {
   "cell_type": "code",
   "execution_count": 52,
   "metadata": {
    "collapsed": true,
    "jupyter": {
     "outputs_hidden": true
    },
    "tags": []
   },
   "outputs": [
    {
     "name": "stdout",
     "output_type": "stream",
     "text": [
      "국립어린이청소년도서관, 서울 강남구 역삼동\n",
      "서울특별시교육청 어린이도서관, 서울 종로구 사직동\n",
      "소나무언덕1호 작은도서관, 서울 송파구 풍납동\n",
      "송파어린이도서관, 서울 송파구 잠실동\n",
      "마포어린이영어도서관, 서울 마포구 도화동\n",
      "꿈꾸는어린이도서관, 서울 강서구 염창동\n",
      "노원어린이도서관, 서울 노원구 중계동\n",
      "송파어린이영어도서관, 서울 송파구 신천동\n",
      "용두어린이영어도서관, 서울 동대문구 용두동\n",
      "대방어린이도서관, 서울 동작구 대방동\n",
      "------------------------------------------------\n",
      "이문어린이도서관, 서울 동대문구 이문동\n",
      "어린이도서관책고리, 서울 성북구 보문동6가\n",
      "무수골도서관, 서울 도봉구 도봉1동\n",
      "몬스터도서관, 서울 광진구 구의동\n",
      "이마트키즈라이브러리 2호관, 서울 강서구 화곡동\n",
      "꿈나무어린이도서관, 서울 송파구 가락동\n",
      "아이리드, 서울 강남구 개포동\n",
      "은평구립도서관 어린이열람실, 서울 은평구 불광동\n",
      "성동구다문화어린이도서관, 서울 성동구 홍익동\n",
      "도담도담어린이도서관, 서울 은평구 응암동\n",
      "------------------------------------------------\n",
      "어깨동무어린이도서관, 서울 서대문구 북가좌동\n",
      "나무와 열매 어린이 도서관, 서울 종로구 무악동\n",
      "문화촌어린이도서관, 서울 서대문구 홍제동\n",
      "쪼물왕국어린이도서관, 서울 영등포구 양평동4가\n",
      "북마크 어린이도서관, 서울 영등포구 양평동4가\n",
      "어린이도서관 느티나무, 서울 중구 신당동\n",
      "꿈이있는어린이도서관, 서울 강서구 화곡동\n",
      "좋은친구어린이도서관, 서울 강서구 공항동\n",
      "다모아어린이도서관, 서울 중랑구 면목동\n",
      "어린이도서관꿈꾸는세상, 서울 서대문구 홍은2동\n",
      "------------------------------------------------\n",
      "서울숲옆다루작은도서관, 서울 성동구 성수동1가\n",
      "돌리네책빵, 서울 성북구 석관동\n",
      "아름숲 작은도서관, 서울 동대문구 전농동\n",
      "쁘띠몽드 마포중앙도서관점, 서울 마포구 성산동\n",
      "토리영어도서관, 서울 중랑구 면목동\n",
      "리더스하이영어도서관, 서울 광진구 구의동\n",
      "국립중앙도서관책사랑어린이집, 서울 서초구 반포동\n",
      "어린이도서관, 서울 성동구 금호동3가\n",
      "송파어린이도서관무인민원발급기, 서울 송파구 잠실동\n",
      "서울시립어린이도서관장애인용승강기, 서울 종로구 사직동\n",
      "------------------------------------------------\n",
      "추출되는 도서관이 더 이상 없슈\n",
      "스크래핑 종료\n"
     ]
    }
   ],
   "source": [
    "time.sleep(2)\n",
    "driver.switch_to.frame(\"searchIframe\") \n",
    "while True :    \n",
    "    names = driver.find_elements(By.CSS_SELECTOR, \"span.place_bluelink\")\n",
    "    addrs = driver.find_elements(By.CSS_SELECTOR, \"span.hClKF\")\n",
    "    if len(names) == 0 :\n",
    "        print(\"추출되는 도서관이 더 이상 없슈\")\n",
    "        break\n",
    "    for i in range(len(names)) :\n",
    "        print(names[i].text,addrs[i].text, sep=\", \", end=\"\\n\")\n",
    "    print(\"------------------------------------------------\")\n",
    "    linkurl = '#app-root > div > div.XUrfU > div.zRM9F > a:nth-child(7)'\n",
    "    try :\n",
    "        linkNum = driver.find_element(By.CSS_SELECTOR, linkurl)\n",
    "    except :\n",
    "        print(\"더 이상 다음 페이지 없음\")\n",
    "        break\n",
    "    linkNum.click()  \n",
    "    time.sleep(5)\n",
    "print(\"스크래핑 종료\")\n",
    "#driver.quit()"
   ]
  },
  {
   "cell_type": "code",
   "execution_count": 59,
   "metadata": {
    "collapsed": true,
    "jupyter": {
     "outputs_hidden": true
    },
    "tags": []
   },
   "outputs": [
    {
     "name": "stdout",
     "output_type": "stream",
     "text": [
      "스크롤 : 9\n",
      "스크롤 : 19\n",
      "스크롤 : 29\n",
      "스크롤 : 39\n",
      "스크롤 : 49\n",
      "스크롤 : 59\n",
      "국립어린이청소년도서관, 서울 강남구 역삼동\n",
      "서울특별시교육청 어린이도서관, 서울 종로구 사직동\n",
      "소나무언덕1호 작은도서관, 서울 송파구 풍납동\n",
      "송파어린이도서관, 서울 송파구 잠실동\n",
      "마포어린이영어도서관, 서울 마포구 도화동\n",
      "꿈꾸는어린이도서관, 서울 강서구 염창동\n",
      "노원어린이도서관, 서울 노원구 중계동\n",
      "송파어린이영어도서관, 서울 송파구 신천동\n",
      "용두어린이영어도서관, 서울 동대문구 용두동\n",
      "대방어린이도서관, 서울 동작구 대방동\n",
      "해맞이장난감도서관, 서울 양천구 신월동\n",
      "도봉아이나라도서관, 서울 도봉구 창동\n",
      "구로구립개봉어린이도서관, 서울 구로구 개봉동\n",
      "글마루한옥어린이도서관, 서울 구로구 개봉동\n",
      "중랑숲어린이도서관, 서울 중랑구 망우동\n",
      "꿈익는 책마을, 서울 동작구 상도동\n",
      "못골한옥어린이도서관, 서울 강남구 자곡동\n",
      "도봉기적의도서관, 서울 도봉구 도봉동\n",
      "어깨동무도서관, 서울 마포구 상암동\n",
      "나들목가족도서관, 서울 동대문구 신설동\n",
      "꿈나래어린이영어도서관, 서울 마포구 망원동\n",
      "손기정어린이도서관, 서울 중구 만리동2가\n",
      "동작어린이도서관, 서울 동작구 노량진동\n",
      "통인 어린이 작은도서관, 서울 종로구 통인동\n",
      "하늘샘어린이도서관, 서울 서대문구 홍은2동\n",
      "구로구립궁동어린이도서관, 서울 구로구 궁동\n",
      "아리랑어린이도서관, 서울 성북구 돈암동\n",
      "남산타운문화체육센터 어린이도서관, 서울 중구 약수동\n",
      "키즈스토리랜드위디딧, 서울 구로구 신도림동\n",
      "길꽃어린이도서관, 서울 강서구 방화동\n",
      "책읽는엄마 책읽는아이, 서울 성동구 금호동3가\n",
      "장안어린이도서관, 서울 동대문구 장안동\n",
      "용암어린이영어도서관, 서울 용산구 용산동2가\n",
      "구로 꿈나무어린이도서관, 서울 구로구 구로동\n",
      "장안꿈마루어린이 작은도서관, 서울 동대문구 장안동\n",
      "아차산아래 작은도서관 놀자, 서울 광진구 구의동\n",
      "위례 SR키즈 영어도서관, 서울 송파구 장지동\n",
      "마포푸르메어린이도서관, 서울 마포구 상암동\n",
      "북트리 책읽어주는 도서관, 서울 중랑구 신내동\n",
      "꿈나무마을책놀이방, 서울 은평구 응암동\n",
      "다섯콩작은도서관, 서울 은평구 녹번동\n",
      "인표어린이도서관, 서울 종로구 사직동\n",
      "다문화어린이작은책마루이음, 서울 성동구 도선동\n",
      "꿈터마을 작은도서관, 서울 성북구 정릉동\n",
      "맑은물어린이전문도서관, 서울 노원구 하계동\n",
      "백련산 어린이도서관, 서울 은평구 응암동\n",
      "루디아어린이영어도서관, 서울 강남구 세곡동\n",
      "고척교회어린이도서관책마을, 서울 구로구 고척동\n",
      "중화어린이도서관, 서울 중랑구 중화2동\n",
      "반딧불어린이도서관, 서울 영등포구 문래동4가\n",
      "------------------------------------------------\n",
      "스크롤 : 9\n",
      "스크롤 : 19\n",
      "스크롤 : 29\n",
      "스크롤 : 39\n",
      "스크롤 : 49\n",
      "스크롤 : 59\n",
      "이문어린이도서관, 서울 동대문구 이문동\n",
      "어린이도서관책고리, 서울 성북구 보문동6가\n",
      "무수골도서관, 서울 도봉구 도봉1동\n",
      "몬스터도서관, 서울 광진구 구의동\n",
      "이마트키즈라이브러리 2호관, 서울 강서구 화곡동\n",
      "꿈나무어린이도서관, 서울 송파구 가락동\n",
      "아이리드, 서울 강남구 개포동\n",
      "은평구립도서관 어린이열람실, 서울 은평구 불광동\n",
      "성동구다문화어린이도서관, 서울 성동구 홍익동\n",
      "도담도담어린이도서관, 서울 은평구 응암동\n",
      "우리동네글방, 서울 마포구 합정동\n",
      "꿈나무어린이서점, 서울 노원구 중계2.3동\n",
      "씽크엘작은도서관, 서울 강북구 미아동\n",
      "스토리빈 작은도서관, 서울 송파구 문정동\n",
      "숲속꿈나무어린이도서관, 서울 구로구 오류동\n",
      "느티나무어린이도서관, 서울 중구 신당동\n",
      "신사2동 책사랑방, 서울 은평구 신사2동\n",
      "래미안상도3차 어린이문고, 서울 동작구 상도동\n",
      "다문화어린이도서관 모두, 서울 동대문구 이문동\n",
      "어린이보물찾기도서관, 서울 동대문구 회기동\n",
      "물댄동산어린이도서관, 서울 성동구 성수동1가\n",
      "환원어린이작은도서관, 서울 강서구 개화동\n",
      "옐로우트리모자방, 서울 은평구 신사동\n",
      "꿈나무어린이도서관, 서울 중랑구 신내동\n",
      "작은 도서관 함께놀자, 서울 강북구 수유동\n",
      "강북교육문화원어린이도서관, 서울 강북구 번동\n",
      "어린이도서연구회, 서울 마포구 성산동\n",
      "어린이와작은도서관협회, 서울 마포구 서교동\n",
      "새세대육영회 어린이도서실, 서울 송파구 장지동\n",
      "석천문화관, 서울 종로구 명륜1가 4\n",
      "남가좌새롬어린이도서관, 서울 서대문구 남가좌2동\n",
      "새날도서관, 서울 성북구 종암동\n",
      "녹색장난감도서관, 서울 중구 을지로1가\n",
      "꿈마루어린이도서관, 서울 동대문구 이문동\n",
      "청파어린이영어도서관, 서울 용산구 청파동2가\n",
      "삼각산어린이도서관, 서울 강북구 미아동\n",
      "까망돌어린이도서관, 서울 동작구 흑석동\n",
      "빛어린이도서관, 서울 강남구 신사동\n",
      "두껍아두껍아 어린이도서관, 서울 영등포구 대림동\n",
      "구립대조꿈나무 어린이도서관, 서울 은평구 대조동\n",
      "동대문구립휘경어린이도서관, 서울 동대문구 휘경동\n",
      "이문체육문화센터 어린이도서관, 서울 동대문구 이문동\n",
      "은행나무어린이도서관, 서울 금천구 시흥동\n",
      "은평어린이영어도서관, 서울 은평구 역촌동\n",
      "어린이도서관 꿈틀, 서울 동대문구 전농동\n",
      "어린이도서관 동네북, 서울 은평구 녹번동\n",
      "어린이청소년국학도서관, 서울 종로구 명륜3가 1-21\n",
      "신사어린이도서관, 서울 은평구 신사동\n",
      "성대골어린이도서관, 서울 동작구 상도동\n",
      "곰세마리 어린이 도서관, 서울 성북구 삼선동3가\n",
      "------------------------------------------------\n",
      "스크롤 : 9\n",
      "스크롤 : 19\n",
      "스크롤 : 29\n",
      "스크롤 : 39\n",
      "스크롤 : 49\n",
      "스크롤 : 59\n",
      "어깨동무어린이도서관, 서울 서대문구 북가좌동\n",
      "나무와 열매 어린이 도서관, 서울 종로구 무악동\n",
      "문화촌어린이도서관, 서울 서대문구 홍제동\n",
      "쪼물왕국어린이도서관, 서울 영등포구 양평동4가\n",
      "북마크 어린이도서관, 서울 영등포구 양평동4가\n",
      "어린이도서관 느티나무, 서울 중구 신당동\n",
      "꿈이있는어린이도서관, 서울 강서구 화곡동\n",
      "좋은친구어린이도서관, 서울 강서구 공항동\n",
      "다모아어린이도서관, 서울 중랑구 면목동\n",
      "어린이도서관꿈꾸는세상, 서울 서대문구 홍은2동\n",
      "삼청교회어린이도서관 꿈과쉼, 서울 종로구 팔판동\n",
      "월계어린이도서관, 서울 노원구 월계동\n",
      "산돌어린이도서관, 서울 금천구 시흥1동\n",
      "백합어린이도서관, 서울 용산구 후암동\n",
      "서초어린이책마을, 서울 서초구 서초동\n",
      "푸른나래어린이도서관, 서울 양천구 신월동\n",
      "새로운어린이도서관, 서울 중랑구 면목동\n",
      "원천어린이도서관, 서울 서대문구 연희동\n",
      "강서성결어린이도서관, 서울 양천구 신월동\n",
      "서문어린이도서관, 서울 은평구 응암동\n",
      "주영광 어린이도서관, 서울 강북구 번동\n",
      "꿈씨 어린이 작은도서관, 서울 금천구 독산4동\n",
      "명지어린이영어도서관, 서울 서대문구 홍은2동\n",
      "금호2 3가어린이작은도서관, 서울 성동구 금호동2가\n",
      "행당2동 어린이 작은도서관, 서울 성동구 행당동\n",
      "어린이아뜰리에, 서울 용산구 이촌동\n",
      "서울특별시립강남도서관 어린이실, 서울 강남구 삼성2동\n",
      "금호4가동 주민센터어린이작은도서관, 서울 성동구 금호동4가\n",
      "응봉동 어린이 작은도서관, 서울 성동구 응봉동\n",
      "도봉어린이문화정보센터, 서울 도봉구 창동\n",
      "신도림 월드메르디앙 어린이 작은도서관, 서울 구로구 신도림동\n",
      "성수2가제1동 어린이작은도서관, 서울 성동구 성수동2가\n",
      "금호1가동어린이작은도서관, 서울 성동구 금호동1가\n",
      "소망의나무어린이작은도서관, 서울 금천구 시흥동\n",
      "어린이 작은도서관 주영심 나무, 서울 광진구 중곡동\n",
      "용답동 어린이작은도서관, 서울 성동구 용답동\n",
      "사근동 어린이놀이터도서관, 서울 성동구 사근동\n",
      "하늘어린이문고, 서울 강서구 화곡동\n",
      "강서제일어린이문고, 서울 양천구 신월동\n",
      "하예성 어린이문고, 서울 중랑구 면목본동\n",
      "광진정보도서관, 서울 광진구 광장동\n",
      "신길6동 공립작은도서관, 서울 영등포구 신길동\n",
      "양평2동 공립작은도서관, 서울 영등포구 양평동4가\n",
      "영등포본동 공립작은도서관, 서울 영등포구 영등포동\n",
      "아띠 작은도서관, 서울 성북구 정릉동\n",
      "여의동 공립작은도서관, 서울 영등포구 여의도동\n",
      "영등포동 공립작은도서관, 서울 영등포구 영등포동7가\n",
      "신길5동꿈터마을도서관, 서울 영등포구 신길동\n",
      "영등포2동새마을문고, 서울 영등포구 영등포동2가\n",
      "마을작은도서관 누리마루, 서울 성동구 사근동\n",
      "------------------------------------------------\n",
      "스크롤 : 9\n",
      "스크롤 : 19\n",
      "스크롤 : 29\n",
      "스크롤 : 39\n",
      "서울숲옆다루작은도서관, 서울 성동구 성수동1가\n",
      "돌리네책빵, 서울 성북구 석관동\n",
      "아름숲 작은도서관, 서울 동대문구 전농동\n",
      "쁘띠몽드 마포중앙도서관점, 서울 마포구 성산동\n",
      "토리영어도서관, 서울 중랑구 면목동\n",
      "리더스하이영어도서관, 서울 광진구 구의동\n",
      "국립중앙도서관책사랑어린이집, 서울 서초구 반포동\n",
      "어린이도서관, 서울 성동구 금호동3가\n",
      "송파어린이도서관무인민원발급기, 서울 송파구 잠실동\n",
      "서울시립어린이도서관장애인용승강기, 서울 종로구 사직동\n",
      "길꽃어린이도서관 여성안심택배함, 서울 강서구 방화동\n",
      "꿈꾸는어린이도서관 개방화장실, 서울 강서구 염창동\n",
      "어린이도서관 개방화장실, 서울 노원구 상계동\n",
      "서부제일교회어린이도서관여성안심택배함, 서울 서대문구 홍은동\n",
      "대방어린이도서관 개방화장실, 서울 동작구 대방동\n",
      "송파어린이도서관 한파쉼터, 서울 송파구 잠실동\n",
      "점프업, 서울 마포구 성산동\n",
      "리드101 목동 1캠퍼스, 서울 양천구 목동\n",
      "송파어린이영어작은도서관 개방화장실, 서울 송파구 신천동\n",
      "커피랑도서관 세종대점, 서울 광진구 화양동\n",
      "리딩트리 잉글리쉬 영어교습소, 서울 용산구 산천동\n",
      "서초구방배영어센터, 서울 서초구 방배동\n",
      "닥터정이클래스 개포점, 서울 강남구 개포동\n",
      "TLC, 서울 노원구 중계동\n",
      "시흥글로벌인재학당, 서울 금천구 시흥동\n",
      "스펀지 영어 교습소, 서울 광진구 광장동\n",
      "리딩오션스, 서울 서초구 서초동\n",
      "꿈꾸는도서관, 서울 서초구 양재동\n",
      "이노블스 목동직영점, 서울 양천구 목동\n",
      "이노블스 대치직영점, 서울 강남구 대치동\n",
      "리틀소호 송파위례점, 서울 송파구 장지동\n",
      "해오름, 서울 영등포구 당산동5가\n",
      "월계문화복지센터, 서울 노원구 월계동\n",
      "코이나 카페, 서울 은평구 응암동\n",
      "신비, 서울 강서구 화곡동\n",
      "주식회사 인굿디자인, 서울 서초구 양재동\n",
      "------------------------------------------------\n",
      "스크롤 : 9\n",
      "추출되는 도서관이 더 이상 없슈\n",
      "스크래핑 종료\n"
     ]
    }
   ],
   "source": [
    "#소스2\n",
    "from selenium import webdriver\n",
    "from selenium.webdriver.common.keys import Keys \n",
    "import time\n",
    "\n",
    "#driver = webdriver.Chrome(service=Service('Users/juheekim/Desktop/coding/mycodesource/Multicampus/selenium/chromedriver'))\n",
    "#driver.implicitly_wait(3) \n",
    "\n",
    "driver.get('https://map.naver.com/') \n",
    "time.sleep(2)\n",
    "\n",
    "target = driver.find_element(By.CSS_SELECTOR, \".input_search\")\n",
    "\n",
    "target.send_keys('서울시어린이도서관')\n",
    "target.send_keys(Keys.ENTER)\n",
    "\n",
    "time.sleep(2)\n",
    "driver.switch_to.frame(\"searchIframe\")\n",
    "\n",
    "while True :\n",
    "    count = 9\n",
    "    while True :\n",
    "        print(\"스크롤 : \" +str(count))\n",
    "        try :\n",
    "            driver.execute_script(\"var su = arguments[0]; var dom=document.querySelectorAll('#_pcmap_list_scroll_container>ul li')[su]; dom.scrollIntoView();\", count)\n",
    "            time.sleep(1)\n",
    "        except :            \n",
    "            break\n",
    "        count += 10\n",
    "    names = driver.find_elements(By.CSS_SELECTOR, \"span.place_bluelink\")\n",
    "    addrs = driver.find_elements(By.CSS_SELECTOR, \"span.hClKF\")\n",
    "    if len(names) == 0 :\n",
    "        print(\"추출되는 도서관이 더 이상 없슈\")\n",
    "        break\n",
    "    for i in range(len(names)) :\n",
    "        print(names[i].text,addrs[i].text, sep=\", \", end=\"\\n\")\n",
    "    print(\"------------------------------------------------\")\n",
    "    linkurl = '#app-root > div > div.XUrfU > div.zRM9F > a:nth-child(7)'\n",
    "    try :\n",
    "        linkNum = driver.find_element(By.CSS_SELECTOR, linkurl)\n",
    "    except :\n",
    "        print(\"더 이상 다음 페이지 없음\")\n",
    "        break\n",
    "    linkNum.click()  \n",
    "    time.sleep(2)\n",
    "print(\"스크래핑 종료\")\n",
    "\n",
    "#driver.quit()"
   ]
  },
  {
   "cell_type": "code",
   "execution_count": 60,
   "metadata": {},
   "outputs": [],
   "source": [
    "from selenium import webdriver\n",
    "from selenium.webdriver.common.by import By\n",
    "from selenium.webdriver.chrome.service import Service\n",
    "\n",
    "#driver = webdriver.Chrome(service=Service('Users/juheekim/Desktop/coding/mycodesource/Multicampus/selenium/chromedriver'))\n",
    "#driver.implicitly_wait(3) \n",
    "\n",
    "driver.get(\"http://www.yes24.com/Product/goods/40936880\")\n",
    "import time\n",
    "temp_list = []\n",
    "time.sleep(3)\n",
    "stopFlag = False\n",
    "while True :\n",
    "  for n in range(4, 13) :\n",
    "    linkurl = '#infoset_reviewContentList > div.review_sort.sortBot > div.review_sortLft > div > a:nth-child('+str(n)+')'\n",
    "    linkNum = driver.find_element(By.CSS_SELECTOR, linkurl)\n",
    "    linkNum.click()   \n",
    "    time.sleep(2)\n",
    "    readLinks = driver.find_elements(By.CSS_SELECTOR, '#infoset_reviewContentList span.review_more')\n",
    "    ##infoset_reviewContentList > div:nth-child(4) > div.reviewInfoBot.crop > a > div > span\n",
    "    for readlink in readLinks :\n",
    "      #readlink.click()\n",
    "      driver.execute_script(\"arguments[0].click();\", readlink)\n",
    "      time.sleep(3)\n",
    "\n",
    "    reviewList = driver.find_elements(By.CSS_SELECTOR, '#infoset_reviewContentList div.reviewInfoBot.origin div.review_cont')\n",
    "    time.sleep(2)\n",
    "\n",
    "    for review in reviewList :    \n",
    "      temp_list.append(review.text)\n",
    "    \n",
    "    if len(reviewList) < 5 :\n",
    "      stopFlag = True\n",
    "      break\n",
    "      \n",
    "  if stopFlag == True :\n",
    "    break\n",
    "  nextPage = '#infoset_reviewContentList > div.review_sort.sortBot > div.review_sortLft > div > a.bgYUI.next'\n",
    "  linkNum = driver.find_element(By.CSS_SELECTOR, nextPage)\n",
    "  linkNum.click()\n",
    "  time.sleep(2)\n",
    "\n",
    "wfile = open(\"output/yes24file.txt\",\"w\", encoding=\"utf-8\") \n",
    "wfile.writelines(temp_list) \n",
    "wfile.close()\n",
    "\n",
    "#driver.quit()"
   ]
  },
  {
   "cell_type": "code",
   "execution_count": 61,
   "metadata": {},
   "outputs": [
    {
     "name": "stdout",
     "output_type": "stream",
     "text": [
      "서울에는 총 595개의 매장이 있어요...\n"
     ]
    }
   ],
   "source": [
    "from selenium import webdriver\n",
    "from selenium.webdriver.common.by import By\n",
    "from selenium.webdriver.chrome.service import Service\n",
    "\n",
    "driver = webdriver.Chrome(service=Service('Users/juheekim/Desktop/coding/mycodesource/Multicampus/selenium/chromedriver'))\n",
    "driver.implicitly_wait(3) \n",
    "\n",
    "driver.get(\"https://www.istarbucks.co.kr/store/store_map.do\")\n",
    "import time\n",
    "time.sleep(2)\n",
    "loca = driver.find_element(By.CLASS_NAME, 'loca_search')\n",
    "loca.click()\n",
    "time.sleep(2)\n",
    "f_link = driver.find_element(By.CSS_SELECTOR, \"div.loca_step1_cont > ul > li:nth-child(1) > a\")\n",
    "f_link.click()\n",
    "time.sleep(2)\n",
    "s_link = driver.find_element(By.CSS_SELECTOR, \"#mCSB_2_container > ul > li:nth-child(1) > a\")\n",
    "s_link.click()\n",
    "time.sleep(2)\n",
    "shopList = driver.find_elements(By.CSS_SELECTOR, \"#mCSB_3_container > ul > li\")\n",
    "\n",
    "temp_list = []\n",
    "time.sleep(3)\n",
    "count = 0\n",
    "total = len(shopList)\n",
    "print(f\"서울에는 총 {total}개의 매장이 있어요...\")\n",
    "for shop in shopList :    \n",
    "    count += 1\n",
    "    #print(count)\n",
    "    shoplat = shop.get_attribute(\"data-lat\")\n",
    "    shoplong = shop.get_attribute(\"data-long\")\n",
    "    shopname = shop.find_element(By.TAG_NAME, \"strong\")\n",
    "    shopinfo = shop.find_element(By.TAG_NAME, \"p\")\n",
    "    splitinfo = shopinfo.text.split('\\n')\n",
    "    if(len(splitinfo) == 2):\n",
    "        addr = splitinfo[0]\n",
    "        phonenum = splitinfo[1]\n",
    "    temp_list.append([shopname.text, shoplat, shoplong, addr, phonenum])\n",
    "    if count != total and count % 3 == 0:\n",
    "        driver.execute_script(\"var su = arguments[0]; var dom=document.querySelectorAll('#mCSB_3_container > ul > li')[su]; dom.scrollIntoView();\", count)\n",
    "with open('output/starbucks_shop.txt', \"wt\", encoding=\"utf-8\") as f:\n",
    "    for item in temp_list :\n",
    "        f.write(str(item)+'\\n')\n",
    "\n",
    "driver.quit()"
   ]
  }
 ],
 "metadata": {
  "kernelspec": {
   "display_name": "eduvenv",
   "language": "python",
   "name": "eduvenv"
  },
  "language_info": {
   "codemirror_mode": {
    "name": "ipython",
    "version": 3
   },
   "file_extension": ".py",
   "mimetype": "text/x-python",
   "name": "python",
   "nbconvert_exporter": "python",
   "pygments_lexer": "ipython3",
   "version": "3.9.15"
  }
 },
 "nbformat": 4,
 "nbformat_minor": 4
}
