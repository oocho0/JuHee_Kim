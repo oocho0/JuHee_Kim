{
 "cells": [
  {
   "cell_type": "code",
   "execution_count": 3,
   "id": "1f319b5c-4001-43aa-aed1-f29ba800ad04",
   "metadata": {},
   "outputs": [
    {
     "name": "stdout",
     "output_type": "stream",
     "text": [
      "<class 'pandas.core.series.Series'> \n",
      " 0    10\n",
      "1    20\n",
      "2    30\n",
      "3    40\n",
      "4    50\n",
      "dtype: int64\n"
     ]
    }
   ],
   "source": [
    "import pandas as pd\n",
    "\n",
    "print(\"문제 1\")\n",
    "\n",
    "data1 = (10, 20, 30, 40, 50)\n",
    "\n",
    "sr1 = pd.Series(data1)\n",
    "print(type(sr1),\"\\n\", sr1)"
   ]
  },
  {
   "cell_type": "code",
   "execution_count": 34,
   "id": "50f14b55-2986-45fa-9fab-8911da276091",
   "metadata": {},
   "outputs": [
    {
     "name": "stdout",
     "output_type": "stream",
     "text": [
      "문제 2\n",
      "<class 'pandas.core.series.Series'> \n",
      " a    10\n",
      "b    20\n",
      "c    30\n",
      "d    40\n",
      "e    50\n",
      "dtype: int64\n"
     ]
    }
   ],
   "source": [
    "import pandas as pd\n",
    "\n",
    "print(\"문제 2\")\n",
    "\n",
    "sr2 = pd.Series(data1, index=[\"a\", \"b\", \"c\", \"d\", \"e\"])\n",
    "print(type(sr2), \"\\n\", sr2)"
   ]
  },
  {
   "cell_type": "code",
   "execution_count": 10,
   "id": "6895e2e4-09c4-4403-80b8-4d4f89285aad",
   "metadata": {},
   "outputs": [
    {
     "name": "stdout",
     "output_type": "stream",
     "text": [
      "<class 'pandas.core.series.Series'> \n",
      " 학생1     둘리\n",
      "학생2     또치\n",
      "학생3    도우너\n",
      "학생4    희동이\n",
      "학생5    마이콜\n",
      "dtype: object\n"
     ]
    }
   ],
   "source": [
    "import pandas as pd\n",
    "\n",
    "print(\"문제 3\")\n",
    "\n",
    "data2 = {\"학생1\": \"둘리\", \"학생2\": \"또치\", \"학생3\": \"도우너\", \"학생4\": \"희동이\", \"학생5\": \"마이콜\"}\n",
    "\n",
    "sr3 = pd.Series(data2)\n",
    "print(type(sr3),\"\\n\", sr3)"
   ]
  },
  {
   "cell_type": "code",
   "execution_count": 17,
   "id": "00f976ce-3b8c-4a91-a8eb-9b7c7d4d9acc",
   "metadata": {},
   "outputs": [
    {
     "name": "stdout",
     "output_type": "stream",
     "text": [
      "문제 4\n",
      "<class 'pandas.core.series.Series'> \n",
      " 학생1     둘리\n",
      "학생2     또치\n",
      "학생3    도우너\n",
      "학생4    희동이\n",
      "학생5    마이콜\n",
      "dtype: object\n"
     ]
    }
   ],
   "source": [
    "import pandas as pd\n",
    "\n",
    "print(\"문제 4\")\n",
    "\n",
    "data3 = (\"둘리\", \"또치\", \"도우너\", \"희동이\", \"마이콜\")\n",
    "\n",
    "sr4 = pd.Series(data3, index=[\"학생1\", \"학생2\", \"학생3\", \"학생4\", \"학생5\"])\n",
    "print(type(sr4),\"\\n\", sr4)"
   ]
  },
  {
   "cell_type": "code",
   "execution_count": 16,
   "id": "45a016e3-cb38-4e95-a993-dfcbd7e67162",
   "metadata": {},
   "outputs": [
    {
     "name": "stdout",
     "output_type": "stream",
     "text": [
      "[시리즈 sr 출력]\n",
      " A형     34.2\n",
      "B형     27.1\n",
      "O형     26.7\n",
      "AB형    11.5\n",
      "dtype: float64 \n",
      "\n",
      "[시리즈 sr에서 인덱싱과 슬라이싱하여 출력(숫자인덱스 사용)]\n",
      " 34.2 \n",
      " 11.5 \n",
      " 27.1 \n",
      " B형     27.1\n",
      "O형     26.7\n",
      "AB형    11.5\n",
      "dtype: float64 \n",
      "\n",
      "[시리즈 sr에서 인덱싱과 슬라이싱하여 출력(이름인덱스 사용)]\n",
      " 34.2 \n",
      " 11.5 \n",
      " 27.1 \n",
      " B형     27.1\n",
      "O형     26.7\n",
      "AB형    11.5\n",
      "dtype: float64 \n",
      "\n",
      "[시리즈 sr의 크기 출력]\n",
      " 4 \n",
      "\n",
      "[시리즈 sr의 인덱스 출력]\n",
      " Index(['A형', 'B형', 'O형', 'AB형'], dtype='object') \n",
      "\n",
      "[시리즈 sr의 데이터 값 출력]\n",
      " [34.2 27.1 26.7 11.5] \n",
      "\n"
     ]
    }
   ],
   "source": [
    "import pandas as pd\n",
    "\n",
    "print(\"문제 5\")\n",
    "\n",
    "blood = [\"A형\", \"B형\", \"O형\", \"AB형\"]\n",
    "st = [34.2, 27.1, 26.7, 11.5]\n",
    "\n",
    "sr = pd.Series(st, index=blood)\n",
    "\n",
    "sr_index = sr.index\n",
    "sr_values = sr.values\n",
    "\n",
    "print(\"[시리즈 sr 출력]\\n\", sr, \"\\n\")\n",
    "\n",
    "print(\"[시리즈 sr에서 인덱싱과 슬라이싱하여 출력(숫자인덱스 사용)]\\n\", sr[0], \"\\n\", sr[-1], \"\\n\", sr[1], \"\\n\", sr[1:], \"\\n\")\n",
    "\n",
    "print(\"[시리즈 sr에서 인덱싱과 슬라이싱하여 출력(이름인덱스 사용)]\\n\", sr[\"A형\"], \"\\n\", sr[\"AB형\"], \"\\n\", sr[\"B형\"], \"\\n\", sr[\"B형\":], \"\\n\")\n",
    "\n",
    "print(\"[시리즈 sr의 크기 출력]\\n\", sr.count(), \"\\n\")\n",
    "\n",
    "print(\"[시리즈 sr의 인덱스 출력]\\n\", sr.index, \"\\n\")\n",
    "\n",
    "print(\"[시리즈 sr의 데이터 값 출력]\\n\", sr.values, \"\\n\")"
   ]
  },
  {
   "cell_type": "code",
   "execution_count": 24,
   "id": "8f05cc08-8460-4c85-b5d9-fadd74431063",
   "metadata": {},
   "outputs": [
    {
     "name": "stdout",
     "output_type": "stream",
     "text": [
      "문제 6\n",
      "<class 'pandas.core.frame.DataFrame'> \n",
      "   name  kor  eng  mat\n",
      "0   둘리   90   99   90\n",
      "1   또치   80   98   70\n",
      "2  도우너   70   97   70\n",
      "3  희동이   70   46   60 \n",
      "\n"
     ]
    }
   ],
   "source": [
    "import pandas as pd\n",
    "\n",
    "print(\"문제 6\")\n",
    "\n",
    "data4=[[\"둘리\",90,99,90],[\"또치\",80,98,70],[\"도우너\",70,97,70],[\"희동이\",70,46,60]]\n",
    "\n",
    "df1=pd.DataFrame(data4, columns=[\"name\", \"kor\", \"eng\", \"mat\"])\n",
    "print(type(df1),\"\\n\",df1,\"\\n\")"
   ]
  },
  {
   "cell_type": "code",
   "execution_count": 26,
   "id": "098dd363-d59d-4fb3-aefe-97849ce161a4",
   "metadata": {},
   "outputs": [
    {
     "name": "stdout",
     "output_type": "stream",
     "text": [
      "문제 7\n",
      "<class 'pandas.core.frame.DataFrame'> \n",
      "     name  kor  eng  mat\n",
      "학생1   둘리   90   99   90\n",
      "학생2   또치   80   98   70\n",
      "학생3  도우너   70   97   70\n",
      "학생4  희동이   70   46   60 \n",
      "\n"
     ]
    }
   ],
   "source": [
    "import pandas as pd\n",
    "\n",
    "print(\"문제 7\")\n",
    "\n",
    "df2=pd.DataFrame(data4, index=[\"학생1\",\"학생2\",\"학생3\",\"학생4\"], columns=[\"name\", \"kor\", \"eng\", \"mat\"])\n",
    "print(type(df2),\"\\n\",df2,\"\\n\")"
   ]
  },
  {
   "cell_type": "code",
   "execution_count": 33,
   "id": "ee341f9a-7417-4e41-b9a0-0139853f1ac1",
   "metadata": {},
   "outputs": [
    {
     "name": "stdout",
     "output_type": "stream",
     "text": [
      "문제 7\n",
      "<class 'pandas.core.frame.DataFrame'> \n",
      "     dooly  doochi  dounar  heedong\n",
      "st1    둘리      90      99       90\n",
      "st2    또치      80      98       70\n",
      "st3   도우너      70      97       70\n",
      "st4   희동이      70      46       60 \n",
      "\n"
     ]
    }
   ],
   "source": [
    "import pandas as pd\n",
    "\n",
    "print(\"문제 8\")\n",
    "\n",
    "df3=df2.copy()\n",
    "\n",
    "df3.index = ['st1', 'st2', 'st3', 'st4']\n",
    "df3.columns = ['dooly','doochi','dounar','heedong']\n",
    "print(type(df3),\"\\n\",df3,\"\\n\")"
   ]
  },
  {
   "cell_type": "code",
   "execution_count": 76,
   "id": "57baa9f2-ce6d-4d2a-b255-84272ce1cd0d",
   "metadata": {},
   "outputs": [
    {
     "name": "stdout",
     "output_type": "stream",
     "text": [
      "문제 9\n",
      "앞에서 5행 출력\n",
      "   name  kor  eng  mat\n",
      "0  듀크1   90   99   90\n",
      "1  듀크2   80   98   70\n",
      "2  듀크3   70   97   70\n",
      "3  듀크4   70   46   60\n",
      "4  듀크5   60   77   88 \n",
      "\n",
      "뒤에서 5행 출력\n",
      "   name  kor  eng  mat\n",
      "2  듀크3   70   97   70\n",
      "3  듀크4   70   46   60\n",
      "4  듀크5   60   77   88\n",
      "5  듀크6   70   56   99\n",
      "6  듀크7   90   90   90 \n",
      "\n",
      "컬럼명들을 출력\n",
      " Index(['name', 'kor', 'eng', 'mat'], dtype='object') \n",
      "\n",
      "name 컬럼만 출력 추출 시, []사용\n",
      " 0    듀크1\n",
      "1    듀크2\n",
      "2    듀크3\n",
      "3    듀크4\n",
      "4    듀크5\n",
      "5    듀크6\n",
      "6    듀크7\n",
      "Name: name, dtype: object \n",
      "\n",
      "eng 컬럼만 출력 추출 시, . 사용\n",
      " 0    99\n",
      "1    98\n",
      "2    97\n",
      "3    46\n",
      "4    77\n",
      "5    56\n",
      "6    90\n",
      "Name: eng, dtype: int64 \n",
      "\n",
      "kor과 mat 컬럼만 출력\n",
      "    kor  mat\n",
      "0   90   90\n",
      "1   80   70\n",
      "2   70   70\n",
      "3   70   60\n",
      "4   60   88\n",
      "5   70   99\n",
      "6   90   90 \n",
      "\n",
      "iloc 인덱서를 사용하여 4 번째 행 출력\n",
      " name    듀크4\n",
      "kor      70\n",
      "eng      46\n",
      "mat      60\n",
      "Name: 3, dtype: object \n",
      "\n",
      "iloc 인덱서를 사용하여 1 번째 행, 1 번째 열 출력\n",
      " 듀크1 \n",
      "\n",
      "iloc 인덱서를 사용하여 4 번째 행, 3 번째 열 출력\n",
      " 46 \n",
      "\n",
      "iloc 인덱서를 사용하여 3, 4 번째 행의 3 번째 열 출력\n",
      " 2    97\n",
      "3    46\n",
      "Name: eng, dtype: int64 \n",
      "\n",
      "iloc 인덱서를 사용하여 3, 4 번째 행의 3, 4 번째 열 출력\n",
      "    eng  mat\n",
      "2   97   70\n",
      "3   46   60 \n",
      "\n",
      "loc 인덱서를 사용하여 1 번째 행, 1 번째 열 출력\n",
      " 듀크1 \n",
      "\n",
      "loc 인덱서를 사용하여 4 번째 행, 3 번째 열 출력\n",
      " 46 \n",
      "\n",
      "loc 인덱서를 사용하여 3, 4 번째 행의 3 번째 열 출력\n",
      " 2    97\n",
      "3    46\n",
      "Name: eng, dtype: int64 \n",
      "\n",
      "loc 인덱서를 사용하여 3, 4 번째 행의 3, 4 번째 열 출력\n",
      "    eng  mat\n",
      "2   97   70\n",
      "3   46   60 \n",
      "\n"
     ]
    }
   ],
   "source": [
    "import pandas as pd\n",
    "\n",
    "print(\"문제 9\")\n",
    "\n",
    "data={'name':['듀크1','듀크2','듀크3','듀크4','듀크5','듀크6','듀크7'],\n",
    "      'kor':[90,80,70,70,60,70,90],\n",
    "      'eng':[99,98,97,46,77,56,90],\n",
    "      'mat':[90,70,70,60,88,99,90]}\n",
    "\n",
    "df=pd.DataFrame(data)\n",
    "\n",
    "print(\"앞에서 5행 출력\\n\",df.head(),\"\\n\")\n",
    "\n",
    "print(\"뒤에서 5행 출력\\n\",df.tail(),\"\\n\")\n",
    "\n",
    "print(\"컬럼명들을 출력\\n\",df.columns,\"\\n\")\n",
    "\n",
    "print(\"name 컬럼만 출력 추출 시, []사용\\n\",df[\"name\"],\"\\n\")\n",
    "\n",
    "print(\"eng 컬럼만 출력 추출 시, . 사용\\n\",df.eng,\"\\n\")\n",
    "\n",
    "print(\"kor과 mat 컬럼만 출력\\n\",df[[\"kor\", \"mat\"]],\"\\n\")\n",
    "\n",
    "print(\"iloc 인덱서를 사용하여 4 번째 행 출력\\n\",df.iloc[3],\"\\n\")\n",
    "\n",
    "print(\"iloc 인덱서를 사용하여 1 번째 행, 1 번째 열 출력\\n\",df.iloc[0,0],\"\\n\")\n",
    "\n",
    "print(\"iloc 인덱서를 사용하여 4 번째 행, 3 번째 열 출력\\n\",df.iloc[3,2],\"\\n\")\n",
    "\n",
    "print(\"iloc 인덱서를 사용하여 3, 4 번째 행의 3 번째 열 출력\\n\",df.iloc[[2, 3], 2],\"\\n\")\n",
    "\n",
    "print(\"iloc 인덱서를 사용하여 3, 4 번째 행의 3, 4 번째 열 출력\\n\",df.iloc[[2, 3], [2, 3]],\"\\n\")\n",
    "\n",
    "print(\"loc 인덱서를 사용하여 1 번째 행, 1 번째 열 출력\\n\",df.loc[0, \"name\"],\"\\n\")\n",
    "\n",
    "print(\"loc 인덱서를 사용하여 4 번째 행, 3 번째 열 출력\\n\",df.loc[3, \"eng\"],\"\\n\")\n",
    "\n",
    "print(\"loc 인덱서를 사용하여 3, 4 번째 행의 3 번째 열 출력\\n\",df.loc[[2, 3], \"eng\"],\"\\n\")\n",
    "\n",
    "print(\"loc 인덱서를 사용하여 3, 4 번째 행의 3, 4 번째 열 출력\\n\",df.loc[[2, 3], [\"eng\", \"mat\"]],\"\\n\")"
   ]
  },
  {
   "cell_type": "code",
   "execution_count": 75,
   "id": "6d0d1863-01e7-4766-86d8-0531923b08a4",
   "metadata": {},
   "outputs": [
    {
     "name": "stdout",
     "output_type": "stream",
     "text": [
      "문제 10\n",
      "      kor  eng  mat\n",
      "name               \n",
      "듀크1    90   99   90\n",
      "듀크2    80   98   70\n",
      "듀크3    70   97   70\n",
      "듀크4    70   46   60\n",
      "듀크5    60   77   88\n",
      "듀크6    70   56   99\n",
      "듀크7    90   90   90\n"
     ]
    }
   ],
   "source": [
    "import pandas as pd\n",
    "\n",
    "print(\"문제 10\")\n",
    "\n",
    "df.set_index([\"name\"], inplace=True)\n",
    "print(df)"
   ]
  }
 ],
 "metadata": {
  "kernelspec": {
   "display_name": "eduvenv",
   "language": "python",
   "name": "eduvenv"
  },
  "language_info": {
   "codemirror_mode": {
    "name": "ipython",
    "version": 3
   },
   "file_extension": ".py",
   "mimetype": "text/x-python",
   "name": "python",
   "nbconvert_exporter": "python",
   "pygments_lexer": "ipython3",
   "version": "3.9.15"
  }
 },
 "nbformat": 4,
 "nbformat_minor": 5
}
