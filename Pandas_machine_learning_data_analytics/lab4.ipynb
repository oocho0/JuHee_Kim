{
 "cells": [
  {
   "cell_type": "code",
   "execution_count": 32,
   "id": "1ea56cd9-5a02-4e4e-aee1-9836c44b5684",
   "metadata": {},
   "outputs": [],
   "source": [
    "from selenium import webdriver\n",
    "from selenium.webdriver.common.keys import Keys \n",
    "from selenium.webdriver.common.by import By\n",
    "from selenium.webdriver.chrome.service import Service\n",
    "\n",
    "driver = webdriver.Chrome(service=Service('Users/juheekim/Desktop/coding/mycodesource/Multicampus/selenium/chromedriver')) # selnium 4.x\n",
    "\n",
    "driver.get('http://www.naver.com/') \n",
    "target = driver.find_element(By.CSS_SELECTOR, \"#query\")\n",
    "target.send_keys(\"파이썬\")\n",
    "target = driver.find_element(By.CSS_SELECTOR, \"#search_btn\")\n",
    "target.click()"
   ]
  },
  {
   "cell_type": "code",
   "execution_count": 33,
   "id": "cbe94fbf-e455-4541-b6ea-ebc4e9878529",
   "metadata": {},
   "outputs": [],
   "source": [
    "from selenium import webdriver\n",
    "from selenium.webdriver.common.keys import Keys \n",
    "from selenium.webdriver.common.by import By\n",
    "from selenium.webdriver.chrome.service import Service\n",
    "\n",
    "driver.get('http://www.naver.com/') \n",
    "target=driver.find_element(By.ID, value=\"query\")\n",
    "target.send_keys('파이썬')\n",
    "target=driver.find_element(By.ID, value=\"search_btn\")\n",
    "target.click()"
   ]
  },
  {
   "cell_type": "code",
   "execution_count": 34,
   "id": "b9ed45c6-811a-4794-8638-9d91654318a0",
   "metadata": {},
   "outputs": [],
   "source": [
    "from selenium import webdriver\n",
    "from selenium.webdriver.common.keys import Keys \n",
    "from selenium.webdriver.common.by import By\n",
    "from selenium.webdriver.chrome.service import Service\n",
    "\n",
    "driver.get('http://www.naver.com/') \n",
    "target=driver.find_element(By.CLASS_NAME, \"input_text\")\n",
    "target.send_keys(\"파이썬\")\n",
    "target=driver.find_element(By.CLASS_NAME, \"btn_submit\")\n",
    "target.click()"
   ]
  }
 ],
 "metadata": {
  "kernelspec": {
   "display_name": "eduvenv",
   "language": "python",
   "name": "eduvenv"
  },
  "language_info": {
   "codemirror_mode": {
    "name": "ipython",
    "version": 3
   },
   "file_extension": ".py",
   "mimetype": "text/x-python",
   "name": "python",
   "nbconvert_exporter": "python",
   "pygments_lexer": "ipython3",
   "version": "3.9.15"
  }
 },
 "nbformat": 4,
 "nbformat_minor": 5
}
