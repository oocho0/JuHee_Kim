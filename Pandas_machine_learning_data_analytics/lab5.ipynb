{
 "cells": [
  {
   "cell_type": "code",
   "execution_count": 43,
   "id": "1caa3c99-75e4-415f-ab6f-3c3061bb5a91",
   "metadata": {},
   "outputs": [
    {
     "name": "stdout",
     "output_type": "stream",
     "text": [
      "1 page 데이터 추출 완료\n",
      "2 page 데이터 추출 완료\n",
      "3 page 데이터 추출 완료\n",
      "4 page 데이터 추출 완료\n",
      "5 page 데이터 추출 완료\n",
      "6 page 데이터 추출 완료\n",
      "7 page 데이터 추출 완료\n",
      "8 page 데이터 추출 완료\n",
      "9 page 데이터 추출 완료\n",
      "10 page 데이터 추출 완료\n",
      "모든 데이터 추출 완료\n",
      "<class 'list'> ['1500', '1500', '15900', '15900', '15900', '15900', '15900', '15900', '15900', '15900', '15900', '15900', '15900', '15900', '1000', '1500', '3000', '3000', '1800', '1800', '1800', '1800', '1800', '1800', '1800', '1800', '600', '3900', '3900', '3900', '2800', '4500', '2900', '2900', '2900', '2900', '5900', '5900', '1500', '2000', '1600', '1600', '1400', '1400', '1500', '1800', '1800', '1200', '1200', '2200', '2200', '2200', '2200', '1200', '1200', '1500', '1500', '8900', '3800', '3800', '3800', '1400', '1200', '1800', '1800', '3700', '3700', '3700', '3700', '3700', '2300', '2300', '5500', '1500', '1800', '7000', '1800', '1800', '7500', '3000']\n"
     ]
    }
   ],
   "source": [
    "from selenium import webdriver\n",
    "from selenium.webdriver.common.by import By\n",
    "from selenium.webdriver.chrome.service import Service\n",
    "import pandas as pd\n",
    "import time\n",
    "\n",
    "#셀레니움 새창\n",
    "driver = webdriver.Chrome(service=Service('Users/juheekim/Desktop/coding/mycodesource/Multicampus/selenium/chromedriver'))\n",
    "driver.implicitly_wait(3) \n",
    "\n",
    "#사이트 들어가기\n",
    "driver.get(\"http://gs25.gsretail.com/gscvs/ko/products/event-goods\")\n",
    "time.sleep(2)\n",
    "\n",
    "#2+1 tap 클릭\n",
    "tpo_btnCss=driver.find_element(By.CSS_SELECTOR,\"#TWO_TO_ONE\")\n",
    "tpo_btnCss.click()\n",
    "time.sleep(2)\n",
    "\n",
    "#리스트 변수명 생성\n",
    "goodsname=[]\n",
    "goodsprice=[]\n",
    "\n",
    "#1 page 데이터 추출 & 변수에 저장\n",
    "for i in range(1,9,1):\n",
    "    nameCss='#contents > div.cnt > div.cnt_section.mt50 > div > div > div:nth-child(5) > ul > li:nth-child('+str(i)+') > div > p.tit'\n",
    "    name = driver.find_element(By.CSS_SELECTOR, nameCss)\n",
    "    name_text= name.text\n",
    "    goodsname.append(name_text)\n",
    "    priceCss='#contents > div.cnt > div.cnt_section.mt50 > div > div > div:nth-child(5) > ul > li:nth-child('+str(i)+') > div > p.price > span'\n",
    "    price=driver.find_element(By.CSS_SELECTOR, priceCss)\n",
    "    price_text=price.text\n",
    "    price_text1=price_text.replace(\",\",\"\")\n",
    "    price_text2=price_text1.replace(\"원\",\"\")\n",
    "    goodsprice.append(price_text2)\n",
    "print(\"1 page 데이터 추출 완료\")\n",
    "\n",
    "#2~10 page 데이터 추출 & 변수에 저장\n",
    "for j in range(2,11,1):\n",
    "    pageCss='#contents > div.cnt > div.cnt_section.mt50 > div > div > div:nth-child(5) > div > span > a:nth-child('+str(j)+')'\n",
    "    page=driver.find_element(By.CSS_SELECTOR, pageCss)\n",
    "    page.click()\n",
    "    time.sleep(2)\n",
    "    for i in range(1,9,1):\n",
    "        nameCss='#contents > div.cnt > div.cnt_section.mt50 > div > div > div:nth-child(5) > ul > li:nth-child('+str(i)+') > div > p.tit'\n",
    "        name = driver.find_element(By.CSS_SELECTOR, nameCss)\n",
    "        name_text= name.text\n",
    "        goodsname.append(name_text)\n",
    "        priceCss='#contents > div.cnt > div.cnt_section.mt50 > div > div > div:nth-child(5) > ul > li:nth-child('+str(i)+') > div > p.price > span'\n",
    "        price=driver.find_element(By.CSS_SELECTOR, priceCss)\n",
    "        price_text=price.text\n",
    "        price_text1=price_text.replace(\",\",\"\")\n",
    "        price_text2=price_text1.replace(\"원\",\"\")\n",
    "        goodsprice.append(price_text2)\n",
    "    print(j,\"page 데이터 추출 완료\")\n",
    "print(\"모든 데이터 추출 완료\")\n",
    "print(type(goodsprice),goodsprice)\n",
    "\n",
    "#데이터 정리\n",
    "goods = {\"goodsname\" : goodsname, \"goodsprice\" : goodsprice}\n",
    "df = pd.DataFrame(goods)\n",
    "df.to_csv('output/gs25_twotoone.csv')\n",
    "driver.quit()"
   ]
  }
 ],
 "metadata": {
  "kernelspec": {
   "display_name": "eduvenv",
   "language": "python",
   "name": "eduvenv"
  },
  "language_info": {
   "codemirror_mode": {
    "name": "ipython",
    "version": 3
   },
   "file_extension": ".py",
   "mimetype": "text/x-python",
   "name": "python",
   "nbconvert_exporter": "python",
   "pygments_lexer": "ipython3",
   "version": "3.9.15"
  }
 },
 "nbformat": 4,
 "nbformat_minor": 5
}
