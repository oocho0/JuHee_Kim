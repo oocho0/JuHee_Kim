{
 "cells": [
  {
   "cell_type": "code",
   "execution_count": 55,
   "id": "1070634d-8e0d-4ca2-8f4f-a0f7ca01e357",
   "metadata": {},
   "outputs": [
    {
     "name": "stdout",
     "output_type": "stream",
     "text": [
      "  name  kor  eng  mat\n",
      "0   둘리   90   99   90\n",
      "1   또치   80   98   70\n",
      "2  도우너   70   97   70\n",
      "3  희동이   70   46   60\n"
     ]
    }
   ],
   "source": [
    "import pandas as pd\n",
    "\n",
    "data = {\n",
    "    'name':['둘리', '또치', '도우너', '희동이'],\n",
    "    'kor':[90, 80, 70, 70],\n",
    "    'eng':[99, 98, 97, 46],\n",
    "    'mat':[90, 70, 70, 60],\n",
    "}\n",
    "df = pd.DataFrame(data)\n",
    "print(df)"
   ]
  },
  {
   "cell_type": "code",
   "execution_count": 56,
   "id": "c17e389e-7846-4856-9690-e16959eaa4dd",
   "metadata": {},
   "outputs": [
    {
     "name": "stdout",
     "output_type": "stream",
     "text": [
      "문제 1\n",
      "\n",
      "  name  kor  eng  mat class\n",
      "0   둘리   90   99   90    1반\n",
      "1   또치   80   98   70    2반\n",
      "2  도우너   70   97   70    1반\n",
      "3  희동이   70   46   60    2반\n"
     ]
    }
   ],
   "source": [
    "import pandas as pd\n",
    "\n",
    "print(\"문제 1\\n\")\n",
    "\n",
    "df[\"class\"] = [\"1반\", \"2반\", \"1반\", \"2반\"]\n",
    "print(df)"
   ]
  },
  {
   "cell_type": "code",
   "execution_count": 57,
   "id": "d01ff47e-42c7-4fa0-9737-44df98de41fa",
   "metadata": {},
   "outputs": [
    {
     "name": "stdout",
     "output_type": "stream",
     "text": [
      "문제 2\n",
      "\n",
      "  name  kor  eng  mat class\n",
      "0   둘리   90   99   90    1반\n",
      "1   또치   80   98   70    2반\n",
      "2  도우너   70   97   70    1반\n",
      "3  희동이   70   46   60    2반\n",
      "4  마이콜   80   80   80    1반\n"
     ]
    }
   ],
   "source": [
    "import pandas as pd\n",
    "\n",
    "print(\"문제 2\\n\")\n",
    "\n",
    "df.loc[4] = [\"마이콜\", 80, 80, 80, \"1반\"]\n",
    "print(df)"
   ]
  },
  {
   "cell_type": "code",
   "execution_count": 58,
   "id": "75d0efce-5e16-41f7-acb0-34bafc70085f",
   "metadata": {},
   "outputs": [
    {
     "name": "stdout",
     "output_type": "stream",
     "text": [
      "문제 3-1\n",
      "\n",
      "      국어  영어  수학 반 번호\n",
      "name                 \n",
      "둘리    90  99  90   1반\n",
      "또치    80  98  70   2반\n",
      "도우너   70  97  70   1반\n",
      "희동이   70  46  60   2반\n",
      "마이콜   80  80  80   1반\n"
     ]
    }
   ],
   "source": [
    "import pandas as pd\n",
    "\n",
    "print(\"문제 3-1\\n\")\n",
    "\n",
    "df.set_index([\"name\"], inplace=True)\n",
    "df.columns=[\"국어\", \"영어\", \"수학\", \"반 번호\"]\n",
    "print(df)"
   ]
  },
  {
   "cell_type": "code",
   "execution_count": 59,
   "id": "1a483561-e846-4270-9159-5d099aea2f8e",
   "metadata": {},
   "outputs": [
    {
     "name": "stdout",
     "output_type": "stream",
     "text": [
      "문제 4\n",
      "\n",
      "       국어   영어   수학 반 번호\n",
      "name                    \n",
      "둘리     90   99   90   1반\n",
      "또치     80   98   70   2반\n",
      "도우너    70   97   70   1반\n",
      "희동이    70   90   60   2반\n",
      "마이콜   100  100  100   1반\n"
     ]
    }
   ],
   "source": [
    "import pandas as pd\n",
    "\n",
    "print(\"문제 4\\n\")\n",
    "\n",
    "df.loc[\"마이콜\", [\"국어\", \"영어\", \"수학\"]] = 100\n",
    "df.loc[\"희동이\", \"영어\"] = 90\n",
    "print(df)"
   ]
  },
  {
   "cell_type": "code",
   "execution_count": 60,
   "id": "3d3d1ef9-7cb5-49c3-9a97-fa5342e35cc4",
   "metadata": {},
   "outputs": [
    {
     "name": "stdout",
     "output_type": "stream",
     "text": [
      "문제 5\n",
      "\n",
      "  name   국어   영어   수학 반 번호\n",
      "0   둘리   90   99   90   1반\n",
      "1   또치   80   98   70   2반\n",
      "2  도우너   70   97   70   1반\n",
      "3  희동이   70   90   60   2반\n",
      "4  마이콜  100  100  100   1반\n",
      "    성명   국어   영어   수학 반 번호\n",
      "0   둘리   90   99   90   1반\n",
      "1   또치   80   98   70   2반\n",
      "2  도우너   70   97   70   1반\n",
      "3  희동이   70   90   60   2반\n",
      "4  마이콜  100  100  100   1반\n"
     ]
    }
   ],
   "source": [
    "import pandas as pd\n",
    "\n",
    "print(\"문제 5\\n\")\n",
    "\n",
    "df=df.reset_index()\n",
    "print(df)\n",
    "df.rename(columns={\"name\":\"성명\"}, inplace=True)\n",
    "print(df)"
   ]
  },
  {
   "cell_type": "code",
   "execution_count": 61,
   "id": "d5ef45e6-264f-49ba-8ce4-819ea4da194c",
   "metadata": {},
   "outputs": [
    {
     "name": "stdout",
     "output_type": "stream",
     "text": [
      "문제 6\n",
      "\n",
      "    성명   국어   영어   수학 반 번호\n",
      "4  마이콜  100  100  100   1반\n",
      "0   둘리   90   99   90   1반\n",
      "1   또치   80   98   70   2반\n",
      "2  도우너   70   97   70   1반\n",
      "3  희동이   70   90   60   2반\n",
      "    성명   국어   영어   수학 반 번호\n",
      "3  희동이   70   90   60   2반\n",
      "2  도우너   70   97   70   1반\n",
      "1   또치   80   98   70   2반\n",
      "0   둘리   90   99   90   1반\n",
      "4  마이콜  100  100  100   1반\n"
     ]
    }
   ],
   "source": [
    "import pandas as pd\n",
    "\n",
    "print(\"문제 6\\n\")\n",
    "\n",
    "df1= df.sort_values(by=\"국어\", ascending=False)\n",
    "print(df1)\n",
    "df2= df.sort_values(by=\"영어\", ascending=True)\n",
    "print(df2)"
   ]
  },
  {
   "cell_type": "code",
   "execution_count": 62,
   "id": "44b35720-e9a0-489b-858d-1f525969a7ba",
   "metadata": {},
   "outputs": [
    {
     "name": "stdout",
     "output_type": "stream",
     "text": [
      "문제 7\n",
      "\n",
      "    성명   국어   영어   수학 반 번호   총점\n",
      "4  마이콜  100  100  100   1반  300\n",
      "0   둘리   90   99   90   1반  279\n",
      "1   또치   80   98   70   2반  248\n",
      "2  도우너   70   97   70   1반  237\n",
      "3  희동이   70   90   60   2반  220\n"
     ]
    }
   ],
   "source": [
    "import pandas as pd\n",
    "\n",
    "print(\"문제 7\\n\")\n",
    "\n",
    "df_1=df.T\n",
    "sr1=pd.Series(df_1.iloc[1])\n",
    "sr2=pd.Series(df_1.iloc[2])\n",
    "sr3=pd.Series(df_1.iloc[3])\n",
    "sr_result=sr1+sr2+sr3\n",
    "col_result=sr_result.T\n",
    "\n",
    "df[\"총점\"]=col_result\n",
    "df=df.sort_values(by=\"총점\", ascending=False)\n",
    "print(df)"
   ]
  },
  {
   "cell_type": "code",
   "execution_count": 64,
   "id": "5f2e254a-da40-4c10-8e1d-6d1a23510c1f",
   "metadata": {},
   "outputs": [
    {
     "name": "stdout",
     "output_type": "stream",
     "text": [
      "문제 8\n",
      "\n",
      "df3\n",
      "     성명   국어   영어   수학   총점\n",
      "4  마이콜  100  100  100  300\n",
      "0   둘리   90   99   90  279\n",
      "1   또치   80   98   70  248\n",
      "2  도우너   70   97   70  237\n",
      "3  희동이   70   90   60  220 \n",
      "df\n",
      "     성명   국어   영어   수학 반 번호   총점\n",
      "4  마이콜  100  100  100   1반  300\n",
      "0   둘리   90   99   90   1반  279\n",
      "1   또치   80   98   70   2반  248\n",
      "2  도우너   70   97   70   1반  237\n",
      "3  희동이   70   90   60   2반  220\n"
     ]
    }
   ],
   "source": [
    "import pandas as pd\n",
    "\n",
    "print(\"문제 8\\n\")\n",
    "\n",
    "df3=df.drop(\"반 번호\", axis=1)\n",
    "print(\"df3\\n\", df3, \"\\ndf\\n\",df)"
   ]
  },
  {
   "cell_type": "code",
   "execution_count": 66,
   "id": "139179f1-a958-4822-9d5a-1a1396ddb166",
   "metadata": {},
   "outputs": [
    {
     "name": "stdout",
     "output_type": "stream",
     "text": [
      "문제 9\n",
      "\n",
      "df4\n",
      "     성명  국어  영어  수학 반 번호   총점\n",
      "0   둘리  90  99  90   1반  279\n",
      "1   또치  80  98  70   2반  248\n",
      "2  도우너  70  97  70   1반  237\n",
      "3  희동이  70  90  60   2반  220 \n",
      "df\n",
      "     성명   국어   영어   수학 반 번호   총점\n",
      "4  마이콜  100  100  100   1반  300\n",
      "0   둘리   90   99   90   1반  279\n",
      "1   또치   80   98   70   2반  248\n",
      "2  도우너   70   97   70   1반  237\n",
      "3  희동이   70   90   60   2반  220\n"
     ]
    }
   ],
   "source": [
    "import pandas as pd\n",
    "\n",
    "print(\"문제 9\\n\")\n",
    "\n",
    "df4=df.drop(4)\n",
    "print(\"df4\\n\", df4, \"\\ndf\\n\",df)"
   ]
  },
  {
   "cell_type": "code",
   "execution_count": 70,
   "id": "60a2b19e-0963-4250-be06-168d76d73461",
   "metadata": {},
   "outputs": [
    {
     "name": "stdout",
     "output_type": "stream",
     "text": [
      "문제 10\n",
      "\n",
      "eng    140.0\n",
      "kor    270.0\n",
      "mat    160.0\n",
      "dtype: float64\n"
     ]
    }
   ],
   "source": [
    "import pandas as pd\n",
    "\n",
    "print(\"문제 10\\n\")\n",
    "\n",
    "data1 = {'kor':90, 'mat':80}\n",
    "data2 = {'kor':90, 'eng':70}\n",
    "data3 = {'kor':90, 'eng':70, 'mat':80}\n",
    "series1 = pd.Series( data1 )\n",
    "series2 = pd.Series( data2 )\n",
    "series3 = pd.Series( data3 )\n",
    "result = series1.add(series2.add(series3, fill_value=0), fill_value=0)\n",
    "print(result)\n"
   ]
  },
  {
   "cell_type": "code",
   "execution_count": 81,
   "id": "f5c67765-1026-4a41-b10a-b3c775a94914",
   "metadata": {},
   "outputs": [
    {
     "name": "stdout",
     "output_type": "stream",
     "text": [
      "문제 11\n",
      "\n",
      "add Y6\n",
      "       X1    X2    X3  X4\n",
      "Y1   2.9   9.2  13.2   2\n",
      "Y2   2.4   8.7  11.5   3\n",
      "Y3   2.0   7.2  10.8   4\n",
      "Y4   2.3   8.5  12.3   3\n",
      "Y5   3.2   9.6  12.6   2\n",
      "Y6  10.0  20.0  30.0  40 \n",
      "\n",
      "add 10\n",
      "       X1    X2    X3  X4\n",
      "Y1  12.9  19.2  23.2  12\n",
      "Y2  12.4  18.7  21.5  13\n",
      "Y3  12.0  17.2  20.8  14\n",
      "Y4  12.3  18.5  22.3  13\n",
      "Y5  13.2  19.6  22.6  12\n",
      "Y6  20.0  30.0  40.0  50 \n",
      "\n",
      "add total column\n",
      "       X1    X2    X3  X4  total\n",
      "Y1  12.9  19.2  23.2  12   67.3\n",
      "Y2  12.4  18.7  21.5  13   65.6\n",
      "Y3  12.0  17.2  20.8  14   64.0\n",
      "Y4  12.3  18.5  22.3  13   66.1\n",
      "Y5  13.2  19.6  22.6  12   67.4\n",
      "Y6  20.0  30.0  40.0  50  140.0 \n",
      "\n",
      "transpose\n",
      "          Y1    Y2    Y3    Y4    Y5     Y6\n",
      "X1     12.9  12.4  12.0  12.3  13.2   20.0\n",
      "X2     19.2  18.7  17.2  18.5  19.6   30.0\n",
      "X3     23.2  21.5  20.8  22.3  22.6   40.0\n",
      "X4     12.0  13.0  14.0  13.0  12.0   50.0\n",
      "total  67.3  65.6  64.0  66.1  67.4  140.0\n"
     ]
    }
   ],
   "source": [
    "import pandas as pd\n",
    "\n",
    "print(\"문제 11\\n\")\n",
    "\n",
    "data = {\n",
    "    'X1':[2.9, 2.4, 2, 2.3, 3.2],\n",
    "    'X2':[9.2, 8.7, 7.2, 8.5, 9.6],\n",
    "    'X3':[13.2, 11.5, 10.8, 12.3, 12.6],\n",
    "    'X4':[2, 3, 4, 3, 2]\n",
    "}\n",
    "\n",
    "df = pd.DataFrame(data, index=['Y1','Y2','Y3', 'Y4', 'Y5'])\n",
    "\n",
    "df.loc[\"Y6\"]=[10, 20, 30, 40]\n",
    "\n",
    "print(\"add Y6\\n\", df, \"\\n\")\n",
    "\n",
    "df_add = df + 10\n",
    "print(\"add 10\\n\", df_add, \"\\n\")\n",
    "\n",
    "df_1=df_add.T\n",
    "sr1=pd.Series(df_1.iloc[0])\n",
    "sr2=pd.Series(df_1.iloc[1])\n",
    "sr3=pd.Series(df_1.iloc[2])\n",
    "sr4=pd.Series(df_1.iloc[3])\n",
    "sr_result=sr1+sr2+sr3+sr4\n",
    "col_result=sr_result.T\n",
    "\n",
    "df_add[\"total\"]=col_result\n",
    "print(\"add total column\\n\", df_add, \"\\n\")\n",
    "\n",
    "df_T=df_add.T\n",
    "print(\"transpose\\n\", df_T)"
   ]
  }
 ],
 "metadata": {
  "kernelspec": {
   "display_name": "eduvenv",
   "language": "python",
   "name": "eduvenv"
  },
  "language_info": {
   "codemirror_mode": {
    "name": "ipython",
    "version": 3
   },
   "file_extension": ".py",
   "mimetype": "text/x-python",
   "name": "python",
   "nbconvert_exporter": "python",
   "pygments_lexer": "ipython3",
   "version": "3.9.15"
  }
 },
 "nbformat": 4,
 "nbformat_minor": 5
}
